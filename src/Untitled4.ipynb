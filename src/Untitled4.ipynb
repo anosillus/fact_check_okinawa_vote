{
 "cells": [
  {
   "cell_type": "code",
   "execution_count": 1,
   "id": "2d78bcce-8777-4063-afb2-ae626aac6b89",
   "metadata": {},
   "outputs": [
    {
     "name": "stderr",
     "output_type": "stream",
     "text": [
      "/home/anosillus/.pyenv/versions/3.10.7/envs/fc-check-okinawa/lib/python3.10/site-packages/tqdm/auto.py:22: TqdmWarning: IProgress not found. Please update jupyter and ipywidgets. See https://ipywidgets.readthedocs.io/en/stable/user_install.html\n",
      "  from .autonotebook import tqdm as notebook_tqdm\n"
     ]
    },
    {
     "ename": "ModuleNotFoundError",
     "evalue": "No module named 'data_type'",
     "output_type": "error",
     "traceback": [
      "\u001b[0;31m---------------------------------------------------------------------------\u001b[0m",
      "\u001b[0;31mModuleNotFoundError\u001b[0m                       Traceback (most recent call last)",
      "Cell \u001b[0;32mIn [1], line 27\u001b[0m\n\u001b[1;32m     24\u001b[0m \u001b[38;5;28;01mfrom\u001b[39;00m \u001b[38;5;21;01mstructlog\u001b[39;00m\u001b[38;5;21;01m.\u001b[39;00m\u001b[38;5;21;01mstdlib\u001b[39;00m \u001b[38;5;28;01mimport\u001b[39;00m BoundLogger\n\u001b[1;32m     25\u001b[0m \u001b[38;5;28;01mfrom\u001b[39;00m \u001b[38;5;21;01mtqdm\u001b[39;00m\u001b[38;5;21;01m.\u001b[39;00m\u001b[38;5;21;01mauto\u001b[39;00m \u001b[38;5;28;01mimport\u001b[39;00m tqdm\n\u001b[0;32m---> 27\u001b[0m \u001b[38;5;28;01mfrom\u001b[39;00m \u001b[38;5;21;01mdata_type\u001b[39;00m \u001b[38;5;28;01mimport\u001b[39;00m FileInfo, LocalFileInfo\n\u001b[1;32m     30\u001b[0m RAW_DATA_PATH: Final[Path] \u001b[38;5;241m=\u001b[39m Path(\u001b[38;5;124m\"\u001b[39m\u001b[38;5;124m./../data/raw/\u001b[39m\u001b[38;5;124m\"\u001b[39m)\n\u001b[1;32m     33\u001b[0m \u001b[38;5;28;01mwith\u001b[39;00m \u001b[38;5;28mopen\u001b[39m(\u001b[38;5;124m\"\u001b[39m\u001b[38;5;124m./../data/raw/file_log_2022-10-13.pickle\u001b[39m\u001b[38;5;124m\"\u001b[39m, \u001b[38;5;124m\"\u001b[39m\u001b[38;5;124mrb\u001b[39m\u001b[38;5;124m\"\u001b[39m) \u001b[38;5;28;01mas\u001b[39;00m f:\n",
      "\u001b[0;31mModuleNotFoundError\u001b[0m: No module named 'data_type'"
     ]
    }
   ],
   "source": [
    "import datetime\n",
    "from os import remove\n",
    "import neologdn\n",
    "import hashlib\n",
    "import logging\n",
    "import pickle\n",
    "import re\n",
    "import unicodedata\n",
    "from itertools import groupby\n",
    "from pathlib import Path\n",
    "from re import Pattern\n",
    "from typing import Final, NamedTuple, Optional\n",
    "from urllib.parse import urljoin\n",
    "\n",
    "import click\n",
    "import numpy as np\n",
    "import pandas as pd\n",
    "import requests\n",
    "import structlog\n",
    "from bs4 import BeautifulSoup\n",
    "from pandas import Series\n",
    "from pydantic import FileUrl, HttpUrl\n",
    "from requests import RequestException, Response\n",
    "from structlog.stdlib import BoundLogger\n",
    "from tqdm.auto import tqdm\n",
    "\n",
    "from data_type import FileInfo, LocalFileInfo\n",
    "\n",
    "\n",
    "RAW_DATA_PATH: Final[Path] = Path(\"./../data/raw/\")\n",
    "\n",
    "\n",
    "with open(\"./../data/raw/file_log_2022-10-13.pickle\", \"rb\") as f:\n",
    "    local_file_info = pickle.load(f)\n",
    "\n",
    "\n",
    "file_names = [\n",
    "    RAW_DATA_PATH / str(i.download_date) / i.info.name for i in local_file_info\n",
    "]\n",
    "\n",
    "name = file_names[141]\n",
    "excel_data = pd.ExcelFile(name)\n",
    "sheets = excel_data.sheet_names\n",
    "\n",
    "sheet = sheets[0]\n",
    "df = pd.read_excel(excel_data, sheet_name=sheet, index_col=None, header=None)\n",
    "\n",
    "def find_value_data_positon(df):\n",
    "    for side, col_str in enumerate(df.columns):\n",
    "        for vert, value in enumerate(df[col_str]):\n",
    "            if value == \"県計\":\n",
    "                return (side, vert, True)\n",
    "\n",
    "    return -1, -1, False"
   ]
  },
  {
   "cell_type": "code",
   "execution_count": null,
   "id": "f27666ff-d44b-49f0-88e0-1d3ec044b41a",
   "metadata": {},
   "outputs": [],
   "source": [
    "def remove_noise(x: str | int):\n",
    "    if not isinstance(x, str):\n",
    "        return x\n",
    "    x = neologdn.normalize(x)\n",
    "    x = re.sub(\"[a-zA-Z]+\", \"\", x)\n",
    "    x = x.replace(\"-\", \"\")\n",
    "    x = x.replace(\"&\", \"\")\n",
    "\n",
    "    if x in (\"()\", \",\", \".\", \"\"):\n",
    "        x = np.nan\n",
    "\n",
    "    return x"
   ]
  },
  {
   "cell_type": "code",
   "execution_count": null,
   "id": "66e9e8cd-f3b9-4dca-ab31-3c7a0e50ddc7",
   "metadata": {},
   "outputs": [],
   "source": [
    "df = df.dropna(axis=0, how=\"all\").applymap(remove_noise)"
   ]
  },
  {
   "cell_type": "code",
   "execution_count": null,
   "id": "b9592c67-286f-4b52-b2f9-66d31ae11dd3",
   "metadata": {},
   "outputs": [],
   "source": [
    "side, vert, flag = find_value_data_positon(df)\n",
    "\n",
    "if flag:\n",
    "    all_data = df.iloc[vert:, side + 1 :]\n",
    "    data = df.iloc[vert, side + 1]\n",
    "\n",
    "    if not np.isnan(data):\n",
    "        print(data, all_data.shape)\n",
    "    else:\n",
    "        print(name)\n",
    "else:\n",
    "    print(flag)"
   ]
  },
  {
   "cell_type": "code",
   "execution_count": 2,
   "id": "f11944dc-e04c-4f51-a195-bc1e033c3c37",
   "metadata": {},
   "outputs": [
    {
     "ename": "NameError",
     "evalue": "name 'd' is not defined",
     "output_type": "error",
     "traceback": [
      "\u001b[0;31m---------------------------------------------------------------------------\u001b[0m",
      "\u001b[0;31mNameError\u001b[0m                                 Traceback (most recent call last)",
      "Cell \u001b[0;32mIn [2], line 1\u001b[0m\n\u001b[0;32m----> 1\u001b[0m \u001b[43md\u001b[49m\n",
      "\u001b[0;31mNameError\u001b[0m: name 'd' is not defined"
     ]
    }
   ],
   "source": [
    "d"
   ]
  },
  {
   "cell_type": "code",
   "execution_count": null,
   "id": "4102786b-40cc-4b5f-b52d-70f32018e5af",
   "metadata": {},
   "outputs": [],
   "source": []
  }
 ],
 "metadata": {
  "kernelspec": {
   "display_name": "Python 3 (ipykernel)",
   "language": "python",
   "name": "python3"
  },
  "language_info": {
   "codemirror_mode": {
    "name": "ipython",
    "version": 3
   },
   "file_extension": ".py",
   "mimetype": "text/x-python",
   "name": "python",
   "nbconvert_exporter": "python",
   "pygments_lexer": "ipython3",
   "version": "3.10.7"
  }
 },
 "nbformat": 4,
 "nbformat_minor": 5
}
