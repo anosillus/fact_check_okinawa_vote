{
 "cells": [
  {
   "cell_type": "code",
   "execution_count": 36,
   "id": "062026f4-d328-4239-8565-60c2d6fddcd9",
   "metadata": {},
   "outputs": [],
   "source": [
    "import datetime\n",
    "import neologdn\n",
    "import hashlib\n",
    "import logging\n",
    "import pickle\n",
    "import re\n",
    "import unicodedata\n",
    "from itertools import groupby\n",
    "from pathlib import Path\n",
    "from re import Pattern\n",
    "from typing import Final, NamedTuple, Optional\n",
    "from urllib.parse import urljoin\n",
    "from pandas import DataFrame\n",
    "\n",
    "import click\n",
    "import numpy as np\n",
    "import pandas as pd\n",
    "import requests\n",
    "import structlog\n",
    "from bs4 import BeautifulSoup\n",
    "from pandas import Series\n",
    "from pydantic import FileUrl, HttpUrl\n",
    "from requests import RequestException, Response\n",
    "from structlog.stdlib import BoundLogger\n",
    "from tqdm.auto import tqdm\n",
    "\n",
    "from data_type import FileInfo, LocalFileInfo\n",
    "\n",
    "# pd.set_option(\"display.width\", 40)\n",
    "RAW_DATA_PATH: Final[Path] = Path(\"./../data/raw/\")\n",
    "\n",
    "with open(\"./../data/raw/file_log_2022-10-13.pickle\", \"rb\") as f:\n",
    "    local_file_info = pickle.load(f)\n",
    "\n",
    "file_names = [\n",
    "    RAW_DATA_PATH / str(i.download_date) / i.info.name for i in local_file_info\n",
    "]"
   ]
  },
  {
   "cell_type": "code",
   "execution_count": 37,
   "id": "a166cb07-124c-4cf4-98a2-0f41751ab7ee",
   "metadata": {},
   "outputs": [
    {
     "name": "stdout",
     "output_type": "stream",
     "text": [
      "arrange_data.py\t\t       data_downloader.py  foo.py   __pycache__\n",
      "comulmns_of_family_number.ods  data_type.py\t   hoge.py  Untitled.ipynb\n"
     ]
    }
   ],
   "source": [
    "!ls preprocessing/"
   ]
  },
  {
   "cell_type": "code",
   "execution_count": 96,
   "id": "7aa27035-aad5-4b90-bd98-78b1667c01a2",
   "metadata": {},
   "outputs": [],
   "source": [
    "df = pd.read_excel(\"preprocessing/comulmns_of_family_number.ods\", engine=\"odf\",header=[0,1,2],index_col=0)"
   ]
  },
  {
   "cell_type": "code",
   "execution_count": 102,
   "id": "e72b9c49-c0db-41cb-9d06-97cabaf6acba",
   "metadata": {},
   "outputs": [],
   "source": [
    "l = []\n",
    "for row_col in df.columns:\n",
    "    ll = []\n",
    "    for col in row_col:\n",
    "        if \"Unnamed:\" in col:\n",
    "            col = \"\"\n",
    "        ll.append(col)\n",
    "    l.append(ll)"
   ]
  },
  {
   "cell_type": "code",
   "execution_count": 116,
   "id": "2edc369b-b9d6-487c-9cf4-da2071a02425",
   "metadata": {},
   "outputs": [
    {
     "data": {
      "text/plain": [
       "MultiIndex([( '世帯数',     '',    ''),\n",
       "            ('現在人口',     '',  '総数'),\n",
       "            ('現在人口',     '',   '男'),\n",
       "            ('現在人口',     '',   '女'),\n",
       "            ('人口増減',     '',    ''),\n",
       "            ('自然動態',     '',  '出生'),\n",
       "            ('自然動態',     '',  '死亡'),\n",
       "            ('自然動態', '自然増減',    ''),\n",
       "            ('社会動態',   '転入',  '県外'),\n",
       "            ('社会動態',   '転入',  '県内'),\n",
       "            ('社会動態',   '転入', 'その他'),\n",
       "            ('社会動態',   '転入',   '計'),\n",
       "            ('社会動態',   '転出',  '県外'),\n",
       "            ('社会動態',   '転出',  '県内'),\n",
       "            ('社会動態',   '転出', 'その他'),\n",
       "            ('社会動態',   '転出',   '計'),\n",
       "            ('社会動態', '社会増減',    '')],\n",
       "           names=['order', 'family', 'genus'])"
      ]
     },
     "execution_count": 116,
     "metadata": {},
     "output_type": "execute_result"
    }
   ],
   "source": [
    "pd.MultiIndex.from_arrays(arrays=np.array(l).T, names=df.columns.names)"
   ]
  }
 ],
 "metadata": {
  "kernelspec": {
   "display_name": "Python 3 (ipykernel)",
   "language": "python",
   "name": "python3"
  },
  "language_info": {
   "codemirror_mode": {
    "name": "ipython",
    "version": 3
   },
   "file_extension": ".py",
   "mimetype": "text/x-python",
   "name": "python",
   "nbconvert_exporter": "python",
   "pygments_lexer": "ipython3",
   "version": "3.10.7"
  }
 },
 "nbformat": 4,
 "nbformat_minor": 5
}
